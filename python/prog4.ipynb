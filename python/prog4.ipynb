{
 "cells": [
  {
   "cell_type": "code",
   "execution_count": 17,
   "metadata": {},
   "outputs": [
    {
     "data": {
      "text/plain": [
       "array([0])"
      ]
     },
     "execution_count": 17,
     "metadata": {},
     "output_type": "execute_result"
    }
   ],
   "source": [
    "from sklearn.cluster import KMeans\n",
    "import numpy as np\n",
    "X = np.array([[1.713,1.586], [0.180,1.786], [0.353,1.240],\n",
    "[0.940,1.566], [1.486,0.759], [1.266,1.106],[1.540,0.419],[0.459,1.799],[0.773,0.186]])\n",
    "y=np.array([0,1,1,0,1,0,1,1,1])\n",
    "kmeans = KMeans(n_clusters=3, random_state=0).fit(X,y)\n",
    "kmeans.predict([[0.906, 0.606]])"
   ]
  },
  {
   "cell_type": "code",
   "execution_count": 16,
   "metadata": {},
   "outputs": [
    {
     "name": "stdout",
     "output_type": "stream",
     "text": [
      "Unconditional probability of golf: =0.4\n",
      "Conditional probability ofsingle given medRisk: = 0.6666666666666667\n"
     ]
    }
   ],
   "source": [
    "totalRecords=10\n",
    "numberGolfRecreation=4\n",
    "probGolf=numberGolfRecreation/totalRecords\n",
    "print(\"Unconditional probability of golf: ={}\".format(probGolf)) #conditional probability of `single' given`medRisk'\n",
    "# bayes Formula\n",
    "#p(single|medRisk)=p(medRisk|single)p(single)/p(medRisk)\n",
    "#p(medRisk|single)=p(medRisk ∩single)/p(single)\n",
    "# Therefore the result is:\n",
    "numberMedRiskSingle=2\n",
    "numberMedRisk=3\n",
    "probMedRiskSingle=numberMedRiskSingle/totalRecords\n",
    "probMedRisk=numberMedRisk/totalRecords\n",
    "conditionalProbability=(probMedRiskSingle/probMedRisk)\n",
    "print(\"Conditional probability ofsingle given medRisk: = {}\".format(conditionalProbability))"
   ]
  },
  {
   "cell_type": "code",
   "execution_count": 22,
   "metadata": {},
   "outputs": [],
   "source": [
    "import numpy as np\n",
    "import matplotlib.pyplot as plt\n",
    "def estimate_coef(x, y):\n",
    "  n = np.size(x)\n",
    "  # mean of x and y vector\n",
    "  m_x, m_y = np.mean(x), np.mean(y)\n",
    "# calculating cross-deviation and deviation aboutx \n",
    "  SS_xy =  np.sum(y*x) - n*m_y*m_x\n",
    "  SS_xx = np.sum(x*x) -n*m_x*m_x\n",
    "# calculating regression coefficients \n",
    "  b_1 =  SS_xy / SS_xx\n",
    "  b_0 = m_y - b_1*m_x\n",
    "  return(b_0, b_1)\n",
    "\n",
    "\n",
    "def plot_regression_line(x, y, b):\n",
    "  plt.scatter(x, y, color = \"m\",marker = \"o\", s = 30)\n",
    "# predicted response vector \n",
    "  y_pred = b[0] + b[1]*x\n",
    "# plotting the regression line\n",
    "  plt.plot(x, y_pred, color = \"g\")\n",
    "# putting labels\n",
    "  plt.xlabel('x')\n",
    "  plt.ylabel('y')\n",
    "# function to show plot\n",
    "  plt.show()\n",
    "\n",
    "\n",
    "def main():\n",
    "  x = np.array([0, 1, 2, 3, 4, 5, 6, 7, 8, 9])\n",
    "  y = np.array([1, 3, 2, 5, 7, 8, 8, 9, 10, 12])\n",
    "# estimating coefficients \n",
    "  b = estimate_coef(x, y)\n",
    "  print(\"Estimated coefficients:\\nb_0 = {}\\\\nb_1 = {}\".format(b[0], b[1]))\n",
    "# plotting regression line\n",
    "  plot_regression_line(x, y, b)\n",
    "\n",
    "if __name__ == \"main\":\n",
    "  main()\n"
   ]
  }
 ],
 "metadata": {
  "kernelspec": {
   "display_name": "Python 3",
   "language": "python",
   "name": "python3"
  },
  "language_info": {
   "codemirror_mode": {
    "name": "ipython",
    "version": 3
   },
   "file_extension": ".py",
   "mimetype": "text/x-python",
   "name": "python",
   "nbconvert_exporter": "python",
   "pygments_lexer": "ipython3",
   "version": "3.11.5"
  }
 },
 "nbformat": 4,
 "nbformat_minor": 2
}
